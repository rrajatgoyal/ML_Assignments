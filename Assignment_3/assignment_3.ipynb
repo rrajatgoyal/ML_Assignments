{
 "cells": [
  {
   "cell_type": "code",
   "execution_count": 7,
   "metadata": {},
   "outputs": [],
   "source": [
    "#Question 1\n",
    "Pab=2/36\n",
    "Pa=11/36\n",
    "Pb=6/36"
   ]
  },
  {
   "cell_type": "code",
   "execution_count": 8,
   "metadata": {},
   "outputs": [
    {
     "name": "stdout",
     "output_type": "stream",
     "text": [
      "P(B|A)= 0.0303030303030303\n"
     ]
    }
   ],
   "source": [
    "def fun(Pa,Pb,Pab):\n",
    "    x=Pb*Pab\n",
    "    rg=x/Pa\n",
    "    print(\"P(B|A)=\",rg)\n",
    "fun(Pa,Pb,Pab)\n"
   ]
  },
  {
   "cell_type": "code",
   "execution_count": null,
   "metadata": {},
   "outputs": [],
   "source": []
  },
  {
   "cell_type": "code",
   "execution_count": 10,
   "metadata": {},
   "outputs": [
    {
     "name": "stdout",
     "output_type": "stream",
     "text": [
      "P(b1) probablity that ball drawn is from bag 1  0.5833333333333334\n"
     ]
    }
   ],
   "source": [
    "#Question 2\n",
    "w1=4\n",
    "b1=6\n",
    "w2=4\n",
    "b2=3\n",
    "pb1=1/2 #probability of drawing ball from bag1\n",
    "pb2=1/2 #probability of drawing ball from bag2\n",
    "b22=3/7 #probability of drawing black ball from bag2\n",
    "b11=6/10 #probability of drawing black  ball from bag1\n",
    "\n",
    "# since drawn ball is black,to find it is of 1st bag\n",
    "pb=(b11*pb1)/((pb1*b11)+(pb2*b22))\n",
    "print(\"P(b1) probablity that ball drawn is from bag 1 \",pb)"
   ]
  },
  {
   "cell_type": "code",
   "execution_count": 11,
   "metadata": {},
   "outputs": [
    {
     "name": "stdout",
     "output_type": "stream",
     "text": [
      "P(4) probablity that no. obtained is actually 4 is  0.2857142857142857\n"
     ]
    }
   ],
   "source": [
    "#Question3 using bayes theoram\n",
    "p4=1/6\n",
    "pn4=5/6\n",
    "pt=2/3\n",
    "pnt=1/3\n",
    "Pf=(p4*pt)/((p4*pt)+(pn4*pnt))\n",
    "print(\"P(4) probablity that no. obtained is actually 4 is \",Pf)"
   ]
  },
  {
   "cell_type": "code",
   "execution_count": null,
   "metadata": {},
   "outputs": [],
   "source": []
  }
 ],
 "metadata": {
  "kernelspec": {
   "display_name": "Python 3",
   "language": "python",
   "name": "python3"
  },
  "language_info": {
   "codemirror_mode": {
    "name": "ipython",
    "version": 3
   },
   "file_extension": ".py",
   "mimetype": "text/x-python",
   "name": "python",
   "nbconvert_exporter": "python",
   "pygments_lexer": "ipython3",
   "version": "3.6.5"
  }
 },
 "nbformat": 4,
 "nbformat_minor": 2
}
